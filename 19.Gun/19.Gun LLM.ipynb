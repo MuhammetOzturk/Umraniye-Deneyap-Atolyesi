{
 "cells": [
  {
   "cell_type": "code",
   "execution_count": null,
   "id": "27ff2416-7634-49b9-9b6c-183ca2628e94",
   "metadata": {},
   "outputs": [],
   "source": [
    "# -*- coding: utf-8 -*-\n",
    "\"\"\"\n",
    "Created on Fri Jun 25 08:15:18 2024\n",
    "\n",
    "@author: UK\n",
    "\"\"\"\n",
    "from huggingface_hub import InferenceClient\n",
    "\n",
    "endpoint_url = \"bu_bölüme_URL_belirtilir\"\n",
    "hf_token = \"bu_bölüme_token_belirtilir\"\n",
    "\n",
    "client = InferenceClient(endpoint_url, token=hf_token)\n",
    "\n",
    "prompt = \"When the weather is rainy, you should\"\n",
    "\n",
    "output = client.text_generation(prompt, stream=False, details=True)\n",
    "\n",
    "print(output)\n",
    "\n",
    "#Bunun yerine pinokio anlatilabilir"
   ]
  }
 ],
 "metadata": {
  "kernelspec": {
   "display_name": "Python 3 (ipykernel)",
   "language": "python",
   "name": "python3"
  },
  "language_info": {
   "codemirror_mode": {
    "name": "ipython",
    "version": 3
   },
   "file_extension": ".py",
   "mimetype": "text/x-python",
   "name": "python",
   "nbconvert_exporter": "python",
   "pygments_lexer": "ipython3",
   "version": "3.11.2"
  }
 },
 "nbformat": 4,
 "nbformat_minor": 5
}
