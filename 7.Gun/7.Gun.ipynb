{
 "cells": [
  {
   "cell_type": "markdown",
   "id": "a159036b-fea8-49f8-a322-9c9b1c82550b",
   "metadata": {},
   "source": [
    "## 6.Gun Tekrar\n",
    "---\n",
    "Yüzdelik dilimler, bir veri setindeki değerlerin belirli bir yüzdesinin altında kalan değeri belirler. Yani, veri setinin %p'sinin altında kalan değeri ifade eder. Örneğin, 25. yüzdelik dilim (Q1) veri setinin %25'inin altında kalan değeri gösterir. Yüzdelik dilimler genellikle sıralanmış veri seti üzerinde hesaplanır.\n",
    "\n",
    "### Hesaplama Adımları\n",
    "\n",
    "1. **Veri Setini Sırala:**\n",
    "   - Veri setindeki değerleri küçükten büyüğe doğru sıralayın.\n",
    "\n",
    "2. **Konum İndeksini Hesapla:**\n",
    "   - İlgili yüzdelik dilim (p) için konum indeksini hesaplayın. Bu, veri setindeki değerlerin konumunu belirlemek için kullanılır.\n",
    "   - Konum indeksi: \\( k = (n - 1) \\$\\times$ p + 1 \\)\n",
    "     - \\( n \\): Veri setindeki toplam değer sayısı\n",
    "     - \\( p \\): Yüzdelik dilim (0 ile 1 arasında bir değer)\n",
    "\n",
    "3. **Interpolasyon (Gerekirse):**\n",
    "   - Konum indeksi tam sayı değilse, iki en yakın değeri kullanarak interpolasyon yapın.\n",
    "\n",
    "### Örnek Hesaplama\n",
    "\n",
    "Veri seti: [3, 1, 4, 1, 5, 9, 2, 6, 5, 3]\n",
    "\n",
    "1. **Veri Setini Sırala:**\n",
    "   - [1, 1, 2, 3, 3, 4, 5, 5, 6, 9]\n",
    "\n",
    "2. **Konum İndeksini Hesapla:**\n",
    "   - Örneğin, 25. yüzdelik dilim (Q1) için:\n",
    "   - \\( p = 0.25 \\)\n",
    "   - \\( n = 10 \\) (toplam değer sayısı)\n",
    "   - \\( k = (10 - 1) $\\times$ 0.25 + 1 = 2.25 \\)\n",
    "\n",
    "3. **Interpolasyon:**\n",
    "   - Konum indeksi 2.25 olduğundan, 2. ve 3. sıradaki değerler arasında interpolasyon yaparız.\n",
    "   - 2. sıradaki değer: 1\n",
    "   - 3. sıradaki değer: 2\n",
    "   - Interpolasyon: \\( 1 + 0.25 $\\times$ (2 - 1) = 1.25 \\)\n",
    "\n",
    "Sonuç: 25. yüzdelik dilim (Q1) yaklaşık olarak 1.25'tir.\n",
    "\n",
    "### Pandas ile Hesaplama\n",
    "\n",
    "Pandas kullanarak yüzdelik dilimleri hesaplamak çok daha kolaydır çünkü yukarıdaki adımlar otomatik olarak gerçekleştirilir. İşte örnek:\n",
    "\n",
    "```python\n",
    "import pandas as pd\n",
    "\n",
    "data = [3, 1, 4, 1, 5, 9, 2, 6, 5, 3]\n",
    "series = pd.Series(data)\n",
    "\n",
    "q25 = series.quantile(0.25)\n",
    "q50 = series.quantile(0.50)\n",
    "q75 = series.quantile(0.75)\n",
    "\n",
    "print(\"25. yüzdelik (Q1):\", q25)\n",
    "print(\"50. yüzdelik (Medyan):\", q50)\n",
    "print(\"75. yüzdelik (Q3):\", q75)\n",
    "```\n"
   ]
  },
  {
   "cell_type": "markdown",
   "id": "ec77db10-fdb5-47e4-a2a2-10e79f713128",
   "metadata": {},
   "source": [
    "## IQR aykiri veri ornegi"
   ]
  },
  {
   "cell_type": "code",
   "execution_count": 1,
   "id": "01584032-d385-4546-9ea6-77aa8af5eefd",
   "metadata": {},
   "outputs": [
    {
     "data": {
      "text/html": [
       "<div>\n",
       "<style scoped>\n",
       "    .dataframe tbody tr th:only-of-type {\n",
       "        vertical-align: middle;\n",
       "    }\n",
       "\n",
       "    .dataframe tbody tr th {\n",
       "        vertical-align: top;\n",
       "    }\n",
       "\n",
       "    .dataframe thead th {\n",
       "        text-align: right;\n",
       "    }\n",
       "</style>\n",
       "<table border=\"1\" class=\"dataframe\">\n",
       "  <thead>\n",
       "    <tr style=\"text-align: right;\">\n",
       "      <th></th>\n",
       "      <th>age</th>\n",
       "      <th>sex</th>\n",
       "      <th>bmi</th>\n",
       "      <th>bp</th>\n",
       "      <th>s1</th>\n",
       "      <th>s2</th>\n",
       "      <th>s3</th>\n",
       "      <th>s4</th>\n",
       "      <th>s5</th>\n",
       "      <th>s6</th>\n",
       "    </tr>\n",
       "  </thead>\n",
       "  <tbody>\n",
       "    <tr>\n",
       "      <th>0</th>\n",
       "      <td>0.038076</td>\n",
       "      <td>0.050680</td>\n",
       "      <td>0.061696</td>\n",
       "      <td>0.021872</td>\n",
       "      <td>-0.044223</td>\n",
       "      <td>-0.034821</td>\n",
       "      <td>-0.043401</td>\n",
       "      <td>-0.002592</td>\n",
       "      <td>0.019907</td>\n",
       "      <td>-0.017646</td>\n",
       "    </tr>\n",
       "    <tr>\n",
       "      <th>1</th>\n",
       "      <td>-0.001882</td>\n",
       "      <td>-0.044642</td>\n",
       "      <td>-0.051474</td>\n",
       "      <td>-0.026328</td>\n",
       "      <td>-0.008449</td>\n",
       "      <td>-0.019163</td>\n",
       "      <td>0.074412</td>\n",
       "      <td>-0.039493</td>\n",
       "      <td>-0.068332</td>\n",
       "      <td>-0.092204</td>\n",
       "    </tr>\n",
       "    <tr>\n",
       "      <th>2</th>\n",
       "      <td>0.085299</td>\n",
       "      <td>0.050680</td>\n",
       "      <td>0.044451</td>\n",
       "      <td>-0.005670</td>\n",
       "      <td>-0.045599</td>\n",
       "      <td>-0.034194</td>\n",
       "      <td>-0.032356</td>\n",
       "      <td>-0.002592</td>\n",
       "      <td>0.002861</td>\n",
       "      <td>-0.025930</td>\n",
       "    </tr>\n",
       "    <tr>\n",
       "      <th>3</th>\n",
       "      <td>-0.089063</td>\n",
       "      <td>-0.044642</td>\n",
       "      <td>-0.011595</td>\n",
       "      <td>-0.036656</td>\n",
       "      <td>0.012191</td>\n",
       "      <td>0.024991</td>\n",
       "      <td>-0.036038</td>\n",
       "      <td>0.034309</td>\n",
       "      <td>0.022688</td>\n",
       "      <td>-0.009362</td>\n",
       "    </tr>\n",
       "    <tr>\n",
       "      <th>4</th>\n",
       "      <td>0.005383</td>\n",
       "      <td>-0.044642</td>\n",
       "      <td>-0.036385</td>\n",
       "      <td>0.021872</td>\n",
       "      <td>0.003935</td>\n",
       "      <td>0.015596</td>\n",
       "      <td>0.008142</td>\n",
       "      <td>-0.002592</td>\n",
       "      <td>-0.031988</td>\n",
       "      <td>-0.046641</td>\n",
       "    </tr>\n",
       "  </tbody>\n",
       "</table>\n",
       "</div>"
      ],
      "text/plain": [
       "        age       sex       bmi        bp        s1        s2        s3  \\\n",
       "0  0.038076  0.050680  0.061696  0.021872 -0.044223 -0.034821 -0.043401   \n",
       "1 -0.001882 -0.044642 -0.051474 -0.026328 -0.008449 -0.019163  0.074412   \n",
       "2  0.085299  0.050680  0.044451 -0.005670 -0.045599 -0.034194 -0.032356   \n",
       "3 -0.089063 -0.044642 -0.011595 -0.036656  0.012191  0.024991 -0.036038   \n",
       "4  0.005383 -0.044642 -0.036385  0.021872  0.003935  0.015596  0.008142   \n",
       "\n",
       "         s4        s5        s6  \n",
       "0 -0.002592  0.019907 -0.017646  \n",
       "1 -0.039493 -0.068332 -0.092204  \n",
       "2 -0.002592  0.002861 -0.025930  \n",
       "3  0.034309  0.022688 -0.009362  \n",
       "4 -0.002592 -0.031988 -0.046641  "
      ]
     },
     "execution_count": 1,
     "metadata": {},
     "output_type": "execute_result"
    }
   ],
   "source": [
    "import pandas as pd\n",
    "import matplotlib.pyplot as plt\n",
    "from sklearn.datasets import load_diabetes\n",
    "\n",
    "diabet = load_diabetes()\n",
    "\n",
    "df_diabet = pd.DataFrame(diabet.data)\n",
    "df_diabet.columns = diabet.feature_names\n",
    "\n",
    "df_diabet.head()"
   ]
  },
  {
   "cell_type": "markdown",
   "id": "fcbd6df3-6c95-4f22-92f9-57963c60fa2a",
   "metadata": {},
   "source": [
    "df_diabet.shape"
   ]
  },
  {
   "cell_type": "code",
   "execution_count": 2,
   "id": "8762691e-b38e-450b-9c4f-de0ca24ceb6c",
   "metadata": {},
   "outputs": [
    {
     "name": "stdout",
     "output_type": "stream",
     "text": [
      "<class 'pandas.core.frame.DataFrame'>\n",
      "RangeIndex: 442 entries, 0 to 441\n",
      "Data columns (total 10 columns):\n",
      " #   Column  Non-Null Count  Dtype  \n",
      "---  ------  --------------  -----  \n",
      " 0   age     442 non-null    float64\n",
      " 1   sex     442 non-null    float64\n",
      " 2   bmi     442 non-null    float64\n",
      " 3   bp      442 non-null    float64\n",
      " 4   s1      442 non-null    float64\n",
      " 5   s2      442 non-null    float64\n",
      " 6   s3      442 non-null    float64\n",
      " 7   s4      442 non-null    float64\n",
      " 8   s5      442 non-null    float64\n",
      " 9   s6      442 non-null    float64\n",
      "dtypes: float64(10)\n",
      "memory usage: 34.7 KB\n"
     ]
    }
   ],
   "source": [
    "df_diabet.info()"
   ]
  },
  {
   "cell_type": "code",
   "execution_count": 3,
   "id": "2dd3febe-e832-4c68-a9f4-b329202ec2e4",
   "metadata": {},
   "outputs": [
    {
     "data": {
      "text/plain": [
       "age   -0.037299\n",
       "sex   -0.044642\n",
       "bmi   -0.034229\n",
       "bp    -0.036656\n",
       "s1    -0.034248\n",
       "s2    -0.030358\n",
       "s3    -0.035117\n",
       "s4    -0.039493\n",
       "s5    -0.033246\n",
       "s6    -0.033179\n",
       "Name: 0.25, dtype: float64"
      ]
     },
     "execution_count": 3,
     "metadata": {},
     "output_type": "execute_result"
    }
   ],
   "source": [
    "Q1 = df_diabet.quantile(0.25)\n",
    "Q1"
   ]
  },
  {
   "cell_type": "code",
   "execution_count": 4,
   "id": "8c79008d-fc6e-4ade-834b-321254314a46",
   "metadata": {},
   "outputs": [
    {
     "data": {
      "text/plain": [
       "age    0.038076\n",
       "sex    0.050680\n",
       "bmi    0.031248\n",
       "bp     0.035644\n",
       "s1     0.028358\n",
       "s2     0.029844\n",
       "s3     0.029312\n",
       "s4     0.034309\n",
       "s5     0.032432\n",
       "s6     0.027917\n",
       "Name: 0.75, dtype: float64"
      ]
     },
     "execution_count": 4,
     "metadata": {},
     "output_type": "execute_result"
    }
   ],
   "source": [
    "Q3 = df_diabet.quantile(0.75)\n",
    "Q3"
   ]
  },
  {
   "cell_type": "code",
   "execution_count": 5,
   "id": "4ed3f2d6-d893-4413-8f4e-ca7546aefd9d",
   "metadata": {},
   "outputs": [
    {
     "data": {
      "text/plain": [
       "age    0.075375\n",
       "sex    0.095322\n",
       "bmi    0.065477\n",
       "bp     0.072300\n",
       "s1     0.062606\n",
       "s2     0.060203\n",
       "s3     0.064429\n",
       "s4     0.073802\n",
       "s5     0.065678\n",
       "s6     0.061096\n",
       "dtype: float64"
      ]
     },
     "execution_count": 5,
     "metadata": {},
     "output_type": "execute_result"
    }
   ],
   "source": [
    "IQR = Q3 - Q1\n",
    "IQR"
   ]
  },
  {
   "cell_type": "code",
   "execution_count": 6,
   "id": "bfa22ddc-a349-4bfb-a41a-f5bf122078d6",
   "metadata": {},
   "outputs": [
    {
     "name": "stdout",
     "output_type": "stream",
     "text": [
      "Kabul edilebilir en dusuk deger : age   -0.150362\n",
      "sex   -0.187624\n",
      "bmi   -0.132445\n",
      "bp    -0.145106\n",
      "s1    -0.128157\n",
      "s2    -0.120663\n",
      "s3    -0.131760\n",
      "s4    -0.150197\n",
      "s5    -0.131762\n",
      "s6    -0.124823\n",
      "dtype: float64\n",
      "Kabul edilebilir en buyuk deger : age    0.151139\n",
      "sex    0.193663\n",
      "bmi    0.129464\n",
      "bp     0.144094\n",
      "s1     0.122267\n",
      "s2     0.120149\n",
      "s3     0.125954\n",
      "s4     0.145012\n",
      "s5     0.130949\n",
      "s6     0.119561\n",
      "dtype: float64\n"
     ]
    }
   ],
   "source": [
    "L = Q1 - 1.5*IQR\n",
    "U = Q3 + 1.5*IQR\n",
    "\n",
    "print(f\"Kabul edilebilir en dusuk deger : {L}\")\n",
    "print(f\"Kabul edilebilir en buyuk deger : {U}\")"
   ]
  },
  {
   "cell_type": "code",
   "execution_count": 7,
   "id": "8d54c797-b31f-495c-89ba-8513cb34e96e",
   "metadata": {},
   "outputs": [
    {
     "data": {
      "image/png": "[encoded data removed]",
      "text/plain": [
       "<Figure size 640x480 with 1 Axes>"
      ]
     },
     "metadata": {},
     "output_type": "display_data"
    },
    {
     "name": "stdout",
     "output_type": "stream",
     "text": [
      "bmi maksimum kabul edilebilir deger : 0.1294636406639386\n",
      "bmi minumum kabul edilebilir deger : -0.13244469328909578\n"
     ]
    }
   ],
   "source": [
    "plt.boxplot(df_diabet.bmi)\n",
    "plt.show()\n",
    "print(f\"bmi maksimum kabul edilebilir deger : {U.bmi}\")\n",
    "print(f\"bmi minumum kabul edilebilir deger : {L.bmi}\")"
   ]
  },
  {
   "cell_type": "code",
   "execution_count": 8,
   "id": "44582b27-1d02-4439-9181-bfdb231ae933",
   "metadata": {},
   "outputs": [
    {
     "data": {
      "text/html": [
       "<div>\n",
       "<style scoped>\n",
       "    .dataframe tbody tr th:only-of-type {\n",
       "        vertical-align: middle;\n",
       "    }\n",
       "\n",
       "    .dataframe tbody tr th {\n",
       "        vertical-align: top;\n",
       "    }\n",
       "\n",
       "    .dataframe thead th {\n",
       "        text-align: right;\n",
       "    }\n",
       "</style>\n",
       "<table border=\"1\" class=\"dataframe\">\n",
       "  <thead>\n",
       "    <tr style=\"text-align: right;\">\n",
       "      <th></th>\n",
       "      <th>age</th>\n",
       "      <th>sex</th>\n",
       "      <th>bmi</th>\n",
       "      <th>bp</th>\n",
       "      <th>s1</th>\n",
       "      <th>s2</th>\n",
       "      <th>s3</th>\n",
       "      <th>s4</th>\n",
       "      <th>s5</th>\n",
       "      <th>s6</th>\n",
       "    </tr>\n",
       "  </thead>\n",
       "  <tbody>\n",
       "    <tr>\n",
       "      <th>256</th>\n",
       "      <td>-0.049105</td>\n",
       "      <td>-0.044642</td>\n",
       "      <td>0.160855</td>\n",
       "      <td>-0.046985</td>\n",
       "      <td>-0.029088</td>\n",
       "      <td>-0.019790</td>\n",
       "      <td>-0.047082</td>\n",
       "      <td>0.034309</td>\n",
       "      <td>0.028020</td>\n",
       "      <td>0.011349</td>\n",
       "    </tr>\n",
       "    <tr>\n",
       "      <th>366</th>\n",
       "      <td>-0.045472</td>\n",
       "      <td>0.050680</td>\n",
       "      <td>0.137143</td>\n",
       "      <td>-0.015999</td>\n",
       "      <td>0.041086</td>\n",
       "      <td>0.031880</td>\n",
       "      <td>-0.043401</td>\n",
       "      <td>0.071210</td>\n",
       "      <td>0.071019</td>\n",
       "      <td>0.048628</td>\n",
       "    </tr>\n",
       "    <tr>\n",
       "      <th>367</th>\n",
       "      <td>-0.009147</td>\n",
       "      <td>0.050680</td>\n",
       "      <td>0.170555</td>\n",
       "      <td>0.014987</td>\n",
       "      <td>0.030078</td>\n",
       "      <td>0.033759</td>\n",
       "      <td>-0.021311</td>\n",
       "      <td>0.034309</td>\n",
       "      <td>0.033654</td>\n",
       "      <td>0.032059</td>\n",
       "    </tr>\n",
       "  </tbody>\n",
       "</table>\n",
       "</div>"
      ],
      "text/plain": [
       "          age       sex       bmi        bp        s1        s2        s3  \\\n",
       "256 -0.049105 -0.044642  0.160855 -0.046985 -0.029088 -0.019790 -0.047082   \n",
       "366 -0.045472  0.050680  0.137143 -0.015999  0.041086  0.031880 -0.043401   \n",
       "367 -0.009147  0.050680  0.170555  0.014987  0.030078  0.033759 -0.021311   \n",
       "\n",
       "           s4        s5        s6  \n",
       "256  0.034309  0.028020  0.011349  \n",
       "366  0.071210  0.071019  0.048628  \n",
       "367  0.034309  0.033654  0.032059  "
      ]
     },
     "execution_count": 8,
     "metadata": {},
     "output_type": "execute_result"
    }
   ],
   "source": [
    "df_diabet[df_diabet.bmi > U.bmi]"
   ]
  },
  {
   "cell_type": "code",
   "execution_count": 17,
   "id": "f6f3160e-8f79-492d-99aa-690d1e261bd9",
   "metadata": {},
   "outputs": [
    {
     "name": "stdout",
     "output_type": "stream",
     "text": [
      "(439, 10)\n"
     ]
    }
   ],
   "source": [
    "# Aykiri veriler filtrelenir\n",
    "temiz_data = df_diabet[(df_diabet.bmi <= U.bmi) & (df_diabet.bmi >= L.bmi) ] \n",
    "print(temiz_data.shape)"
   ]
  },
  {
   "cell_type": "code",
   "execution_count": 20,
   "id": "720e97ab-3249-418e-a420-16007de6f380",
   "metadata": {},
   "outputs": [
    {
     "data": {
      "image/png": "[encoded data removed]",
      "text/plain": [
       "<Figure size 640x480 with 1 Axes>"
      ]
     },
     "metadata": {},
     "output_type": "display_data"
    }
   ],
   "source": [
    "#plt.figure(figsize=(10,7))\n",
    "plt.boxplot(temiz_data.bmi)\n",
    "plt.show()"
   ]
  },
  {
   "cell_type": "markdown",
   "id": "7bca79f0-2f2a-49e0-97c7-fdf814b87686",
   "metadata": {},
   "source": [
    "## Z-Skoru ve IQR Yöntemlerinin Uygulanması"
   ]
  },
  {
   "cell_type": "code",
   "execution_count": 21,
   "id": "330b0e07-7ce3-48f2-925e-76e4df3424c9",
   "metadata": {},
   "outputs": [
    {
     "data": {
      "image/png": "[encoded data removed]",
      "text/plain": [
       "<Figure size 1000x700 with 1 Axes>"
      ]
     },
     "metadata": {},
     "output_type": "display_data"
    },
    {
     "name": "stdout",
     "output_type": "stream",
     "text": [
      "Z-skoru ile tespit ve filtreleme:\n",
      "0        0.974429\n",
      "1        0.861439\n",
      "2        0.820777\n",
      "3        0.766028\n",
      "4        0.759847\n",
      "           ...   \n",
      "20635    0.512592\n",
      "20636    0.944405\n",
      "20637    0.369537\n",
      "20638    0.604429\n",
      "20639    0.033977\n",
      "Name: Population, Length: 20640, dtype: float64\n",
      "Z-skor öncesi: (20640, 8)\n",
      "Z-skor ile filtreleme sonrası: (19884, 8)\n",
      "IQR ile tespit ve filtreleme:\n",
      "IQR Öncesi Shape: (20640, 8)\n",
      "IQR: 938.0\n",
      "Lower: -620.0 ve Upper: 3132.0\n",
      "IQR Sonrası Shape (19442, 8)\n"
     ]
    }
   ],
   "source": [
    "from sklearn.datasets import fetch_california_housing\n",
    "import pandas as pd\n",
    "import matplotlib.pyplot as plt\n",
    "from scipy import stats\n",
    "import numpy as np\n",
    "housing = fetch_california_housing()\n",
    "sutun_isimleri = housing.feature_names\n",
    "df_housing = pd.DataFrame(housing.data)\n",
    "df_housing.columns = sutun_isimleri\n",
    "fig = plt.figure(figsize =(10, 7))\n",
    "plt.boxplot(df_housing['Population'])\n",
    "plt.title(\"Population kutu grafiği\")\n",
    "plt.show()\n",
    "print(\"Z-skoru ile tespit ve filtreleme:\")\n",
    "z_degerleri = np.abs(stats.zscore(df_housing['Population']))\n",
    "print(z_degerleri)\n",
    "threshold_z_skor = 2\n",
    "outlier_indisler = np.where(z_degerleri > threshold_z_skor)[0]\n",
    "outlier_filtrelendi = df_housing.drop(outlier_indisler)\n",
    "print(\"Z-skor öncesi:\", df_housing.shape)\n",
    "print(\"Z-skor ile filtreleme sonrası:\", outlier_filtrelendi.shape)\n",
    "print(\"IQR ile tespit ve filtreleme:\")\n",
    "print(\"IQR Öncesi Shape:\", df_housing.shape)\n",
    "Q1 = df_housing['Population'].quantile(0.25)\n",
    "Q3 = df_housing['Population'].quantile(0.75)\n",
    "IQR = Q3 - Q1\n",
    "print(\"IQR:\",IQR)\n",
    "L = Q1 - 1.5*IQR\n",
    "U = Q3 + 1.5*IQR\n",
    "print(\"Lower: {0} ve Upper: {1}\".format(L,U) )\n",
    "Upper_dizisi = np.where(df_housing['Population'] >= U)[0]\n",
    "Lower_dizisi = np.where(df_housing['Population'] <= L)[0]\n",
    "df_housing.drop(index=Upper_dizisi, inplace=True)\n",
    "df_housing.drop(index=Lower_dizisi, inplace=True)\n",
    "print(\"IQR Sonrası Shape\", df_housing.shape)"
   ]
  }
 ],
 "metadata": {
  "kernelspec": {
   "display_name": "Python 3 (ipykernel)",
   "language": "python",
   "name": "python3"
  },
  "language_info": {
   "codemirror_mode": {
    "name": "ipython",
    "version": 3
   },
   "file_extension": ".py",
   "mimetype": "text/x-python",
   "name": "python",
   "nbconvert_exporter": "python",
   "pygments_lexer": "ipython3",
   "version": "3.11.2"
  }
 },
 "nbformat": 4,
 "nbformat_minor": 5
}
