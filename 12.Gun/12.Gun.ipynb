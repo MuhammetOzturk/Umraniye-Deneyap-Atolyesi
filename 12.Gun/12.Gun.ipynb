{
 "cells": [
  {
   "cell_type": "code",
   "execution_count": 1,
   "id": "139bcf25-2566-4c4c-8261-4bb92a52e98c",
   "metadata": {},
   "outputs": [],
   "source": [
    "import os\n",
    "import requests as req\n",
    "\n",
    "image_url = \"https://raw.githubusercontent.com/quanhua92/human-pose-estimation-opencv/master/image.jpg\"\n",
    "model_url = 'https://raw.githubusercontent.com/quanhua92/human-pose-estimation-opencv/master/graph_opt.pb'\n",
    "\n",
    "\n",
    "if not os.path.exists('image.jpg'):\n",
    "    img = req.get(image_url).content\n",
    "    with open('image.jpg','wb') as fd:\n",
    "        fd.write(img)\n",
    "\n",
    "if not os.path.exists('graph_opt.pb'):\n",
    "    model = req.get(model_url).content\n",
    "    with open('graph_opt.pb', 'wb') as fd:\n",
    "        fd.write(model)"
   ]
  },
  {
   "cell_type": "code",
   "execution_count": 2,
   "id": "dc47734a-f901-49c2-a93a-a2d9f58e38b7",
   "metadata": {},
   "outputs": [],
   "source": [
    "import cv2\n",
    "#modeli ice aktar\n",
    "model = cv2.dnn.readNetFromTensorflow('graph_opt.pb')"
   ]
  },
  {
   "cell_type": "code",
   "execution_count": 3,
   "id": "a25a3a96-b9ef-4066-bdfe-eaedae27f1cd",
   "metadata": {},
   "outputs": [
    {
     "data": {
      "text/plain": [
       "(800, 800, 3)"
      ]
     },
     "execution_count": 3,
     "metadata": {},
     "output_type": "execute_result"
    }
   ],
   "source": [
    "img_arr = cv2.imread('image.jpg')\n",
    "frame = img_arr.copy()\n",
    "img_arr.shape"
   ]
  },
  {
   "cell_type": "code",
   "execution_count": 4,
   "id": "fc33698e-dfdc-4808-9ad7-adbda447d861",
   "metadata": {},
   "outputs": [
    {
     "data": {
      "text/plain": [
       "array([[[226, 226, 226]]], dtype=uint8)"
      ]
     },
     "execution_count": 4,
     "metadata": {},
     "output_type": "execute_result"
    }
   ],
   "source": [
    "img_arr[:1,:1]"
   ]
  },
  {
   "cell_type": "code",
   "execution_count": 5,
   "id": "8f0d7cd8-4985-41b8-870f-b72c75a91943",
   "metadata": {},
   "outputs": [
    {
     "data": {
      "text/plain": [
       "(1, 3, 800, 800)"
      ]
     },
     "execution_count": 5,
     "metadata": {},
     "output_type": "execute_result"
    }
   ],
   "source": [
    "#blob = cv2.dnn.blobFromImage(img_arr, 1.0, img_arr.shape[:2], swapRB=True, crop=False)\n",
    "blob = cv2.dnn.blobFromImage(img_arr, 1.0, img_arr.shape[:2], (127.5, 127.5, 127.5), swapRB=True, crop=False)\n",
    "blob.shape"
   ]
  },
  {
   "cell_type": "code",
   "execution_count": 6,
   "id": "02bb4ba3-44dc-4753-b069-2320bbc8fa84",
   "metadata": {},
   "outputs": [
    {
     "data": {
      "text/plain": [
       "array([[[[98.5, 98.5, 98.5, ..., 98.5, 98.5, 98.5],\n",
       "         [98.5, 98.5, 98.5, ..., 98.5, 98.5, 98.5],\n",
       "         [98.5, 98.5, 98.5, ..., 98.5, 98.5, 98.5],\n",
       "         ...,\n",
       "         [97.5, 97.5, 97.5, ..., 94.5, 94.5, 94.5],\n",
       "         [97.5, 97.5, 97.5, ..., 93.5, 93.5, 93.5],\n",
       "         [97.5, 97.5, 97.5, ..., 93.5, 93.5, 93.5]]]], dtype=float32)"
      ]
     },
     "execution_count": 6,
     "metadata": {},
     "output_type": "execute_result"
    }
   ],
   "source": [
    "blob[:1,:1]"
   ]
  },
  {
   "cell_type": "markdown",
   "id": "56786f0e-eb9c-4672-9608-d54ee83060a0",
   "metadata": {},
   "source": [
    "---  \n",
    "`cv.dnn.blobFromImage` fonksiyonu, bir görüntüyü derin öğrenme modeline uygun bir biçime dönüştürmek için kullanılır. Bu fonksiyon, görüntüyü normalize eder, boyutlandırır ve gerekli dönüşümleri yapar. Aşağıda bu fonksiyonun parametreleri ve işlevi detaylı olarak açıklanmıştır:\n",
    "\n",
    "```python\n",
    "cv.dnn.blobFromImage(frame, 1.0, (inWidth, inHeight), (127.5, 127.5, 127.5), swapRB=True, crop=False)\n",
    "```\n",
    "\n",
    "1. **`frame`**: \n",
    "   - Girdi görüntüsü. Bu, üzerinde işlem yapılacak görüntüdür.\n",
    "\n",
    "2. **`scalefactor` (1.0)**:\n",
    "   - Görüntü değerlerini çarpan faktör. Burada 1.0 kullanıldığı için görüntü değerleri değiştirilmeden işleme alınır.\n",
    "\n",
    "3. **`size` (`(inWidth, inHeight)`)**:\n",
    "   - Görüntünün yeniden boyutlandırılacağı boyutlar. Bu örnekte, `inWidth` ve `inHeight` argümanları kullanılarak belirtilmiştir. Derin öğrenme modelinin beklediği giriş boyutlarına uygun olarak yeniden boyutlandırma işlemi yapılır.\n",
    "\n",
    "4. **`mean` (`(127.5, 127.5, 127.5)`)**:\n",
    "   - Ortalama çıkarma değeri. Her bir kanal (BGR) için ayrı ayrı belirtilir. Görüntünün her kanalından bu değerler çıkarılır. Bu, görüntüyü normalize etmek için kullanılır. Genellikle, ortalama RGB değerlerini çıkararak görüntü merkezlenir. Bu örnekte, her kanal için 127.5 çıkarılır.\n",
    "\n",
    "5. **`swapRB` (`True`)**:\n",
    "   - R ve B kanallarının yer değiştirilip değiştirilmeyeceğini belirler. OpenCV, görüntüleri BGR formatında işlerken, birçok derin öğrenme modeli RGB formatında giriş bekler. `swapRB=True` parametresi, bu kanalların yer değiştirmesini sağlar.\n",
    "\n",
    "6. **`crop` (`False`)**:\n",
    "   - Görüntünün boyutlandırılması sırasında kırpma işlemi yapılıp yapılmayacağını belirtir. `False` olarak ayarlandığında, görüntü kırpılmaz, gerektiğinde yeniden boyutlandırma sırasında boşluk eklenir.\n",
    "\n",
    "**Fonksiyonun İşlevi:**\n",
    "`cv.dnn.blobFromImage` fonksiyonu, verilen görüntüyü derin öğrenme modelinin girişine uygun hale getirir. Bu, şu adımlarla gerçekleştirilir:\n",
    "- Görüntü boyutlandırılır (`size`).\n",
    "- Görüntü normalize edilir (ortalama değerler çıkarılır ve `scalefactor` ile çarpılır).\n",
    "- Gerekirse R ve B kanalları yer değiştirir (`swapRB`).\n",
    "- Gerekirse görüntü kırpılır (`crop`).\n",
    "\n",
    "Bu işlem sonunda, derin öğrenme modeline uygun bir \"blob\" oluşturulur ve modelin `setInput` fonksiyonuna verilerek modelin beslenmesi sağlanır. Bu \"blob\", modelin kabul edeceği uygun boyut, kanal düzeni ve değer aralığına sahip olur.\n"
   ]
  },
  {
   "cell_type": "code",
   "execution_count": 7,
   "id": "dbb64830-d167-458c-b524-f2452e47f7e9",
   "metadata": {},
   "outputs": [
    {
     "data": {
      "text/plain": [
       "(1, 57, 100, 100)"
      ]
     },
     "execution_count": 7,
     "metadata": {},
     "output_type": "execute_result"
    }
   ],
   "source": [
    "model.setInput(blob)\n",
    "detect = model.forward()\n",
    "detect.shape"
   ]
  },
  {
   "cell_type": "code",
   "execution_count": 8,
   "id": "5a87e7f7-6c8c-46e3-8d0e-443af75e1de0",
   "metadata": {},
   "outputs": [],
   "source": [
    "#detect = detect[:, :19, :, :] "
   ]
  },
  {
   "cell_type": "code",
   "execution_count": 9,
   "id": "5ff0f19b-b79e-4a00-9dfe-fb6eff08768f",
   "metadata": {},
   "outputs": [],
   "source": [
    "BODY_PARTS = { \"Nose\": 0, \"Neck\": 1, \"RShoulder\": 2, \"RElbow\": 3, \"RWrist\": 4,\n",
    "               \"LShoulder\": 5, \"LElbow\": 6, \"LWrist\": 7, \"RHip\": 8, \"RKnee\": 9,\n",
    "               \"RAnkle\": 10, \"LHip\": 11, \"LKnee\": 12, \"LAnkle\": 13, \"REye\": 14,\n",
    "               \"LEye\": 15, \"REar\": 16, \"LEar\": 17, \"Background\": 18 }\n",
    "\n",
    "POSE_PAIRS = [ [\"Neck\", \"RShoulder\"], [\"Neck\", \"LShoulder\"], [\"RShoulder\", \"RElbow\"],\n",
    "               [\"RElbow\", \"RWrist\"], [\"LShoulder\", \"LElbow\"], [\"LElbow\", \"LWrist\"],\n",
    "               [\"Neck\", \"RHip\"], [\"RHip\", \"RKnee\"], [\"RKnee\", \"RAnkle\"], [\"Neck\", \"LHip\"],\n",
    "               [\"LHip\", \"LKnee\"], [\"LKnee\", \"LAnkle\"], [\"Neck\", \"Nose\"], [\"Nose\", \"REye\"],\n",
    "               [\"REye\", \"REar\"], [\"Nose\", \"LEye\"], [\"LEye\", \"LEar\"] ]\n"
   ]
  },
  {
   "cell_type": "markdown",
   "id": "895b4ef5-c04f-48e3-a2c7-486017924917",
   "metadata": {},
   "source": [
    "\n",
    "\n",
    "1. **[\"Neck\", \"RShoulder\"]**:\n",
    "   - Boyun ile sağ omuz arasındaki bağlantı.\n",
    "\n",
    "2. **[\"Neck\", \"LShoulder\"]**:\n",
    "   - Boyun ile sol omuz arasındaki bağlantı.\n",
    "\n",
    "3. **[\"RShoulder\", \"RElbow\"]**:\n",
    "   - Sağ omuz ile sağ dirsek arasındaki bağlantı.\n",
    "\n",
    "4. **[\"RElbow\", \"RWrist\"]**:\n",
    "   - Sağ dirsek ile sağ bilek arasındaki bağlantı.\n",
    "\n",
    "5. **[\"LShoulder\", \"LElbow\"]**:\n",
    "   - Sol omuz ile sol dirsek arasındaki bağlantı.\n",
    "\n",
    "6. **[\"LElbow\", \"LWrist\"]**:\n",
    "   - Sol dirsek ile sol bilek arasındaki bağlantı.\n",
    "\n",
    "7. **[\"Neck\", \"RHip\"]**:\n",
    "   - Boyun ile sağ kalça arasındaki bağlantı.\n",
    "\n",
    "8. **[\"RHip\", \"RKnee\"]**:\n",
    "   - Sağ kalça ile sağ diz arasındaki bağlantı.\n",
    "\n",
    "9. **[\"RKnee\", \"RAnkle\"]**:\n",
    "   - Sağ diz ile sağ ayak bileği arasındaki bağlantı.\n",
    "\n",
    "10. **[\"Neck\", \"LHip\"]**:\n",
    "    - Boyun ile sol kalça arasındaki bağlantı.\n",
    "\n",
    "11. **[\"LHip\", \"LKnee\"]**:\n",
    "    - Sol kalça ile sol diz arasındaki bağlantı.\n",
    "\n",
    "12. **[\"LKnee\", \"LAnkle\"]**:\n",
    "    - Sol diz ile sol ayak bileği arasındaki bağlantı.\n",
    "\n",
    "13. **[\"Neck\", \"Nose\"]**:\n",
    "    - Boyun ile burun arasındaki bağlantı.\n",
    "\n",
    "14. **[\"Nose\", \"REye\"]**:\n",
    "    - Burun ile sağ göz arasındaki bağlantı.\n",
    "\n",
    "15. **[\"REye\", \"REar\"]**:\n",
    "    - Sağ göz ile sağ kulak arasındaki bağlantı.\n",
    "\n",
    "16. **[\"Nose\", \"LEye\"]**:\n",
    "    - Burun ile sol göz arasındaki bağlantı.\n",
    "\n",
    "17. **[\"LEye\", \"LEar\"]**:\n",
    "    - Sol göz ile sol kulak arasındaki bağlantı.\n",
    "\n",
    "Bu poz çiftleri, insan vücudundaki anahtar noktaların (örneğin, omuzlar, dirsekler, bilekler, kalçalar, dizler, ayak bilekleri, boyun, burun, gözler ve kulaklar) birbirleriyle olan bağlantılarını tanımlar. Bu bağlantılar, bir kişinin duruşunu veya pozunu oluşturmak için çizilir. Algoritma, her bir bağlantıyı belirli bir doğrulukla tespit eder ve bu bağlantıları çizerek kişinin duruşunu görselleştirir."
   ]
  },
  {
   "cell_type": "code",
   "execution_count": 10,
   "id": "284ed5ce-d979-4ab6-b8d6-2d919794398d",
   "metadata": {},
   "outputs": [
    {
     "data": {
      "text/plain": [
       "array([[-6.6978219e-03, -3.5835898e-03,  1.7187027e-03, ...,\n",
       "         3.8149930e-03,  2.0906492e-04, -1.3195626e-03],\n",
       "       [ 1.9955961e-04,  3.4771231e-04,  3.3327541e-04, ...,\n",
       "         7.4049872e-03,  1.4289217e-03, -2.4977028e-03],\n",
       "       [ 3.1304755e-04,  2.3001083e-04,  1.2075524e-03, ...,\n",
       "        -8.8979432e-04,  4.5324769e-03,  4.4885790e-05],\n",
       "       ...,\n",
       "       [ 3.9540138e-04,  3.2237335e-04,  2.8824480e-04, ...,\n",
       "        -4.2065047e-05,  1.0238325e-03,  5.4277363e-04],\n",
       "       [ 4.1246787e-04,  4.0850346e-04,  3.9969990e-04, ...,\n",
       "        -3.8444253e-03, -6.1432272e-03, -5.9363106e-03],\n",
       "       [ 4.4180453e-04,  4.1825115e-04, -1.3864948e-04, ...,\n",
       "        -4.1887518e-03, -1.3401511e-03, -3.1202950e-03]], dtype=float32)"
      ]
     },
     "execution_count": 10,
     "metadata": {},
     "output_type": "execute_result"
    }
   ],
   "source": [
    "detect[0,0] # Nose lokasyonlari"
   ]
  },
  {
   "cell_type": "markdown",
   "id": "cc01975e-0fda-425d-817a-cf5bc3dcb686",
   "metadata": {},
   "source": [
    "`cv.minMaxLoc` fonksiyonu, bir dizi veya görüntü içindeki minimum ve maksimum değerleri ve bunların konumlarını bulmak için kullanılır. Bu fonksiyon, hem minimum hem de maksimum değerleri ve bu değerlere karşılık gelen koordinatları döndürür. İşte `cv.minMaxLoc` fonksiyonunun ne işe yaradığı ve nasıl çalıştığına dair detaylı açıklama:\n",
    "\n",
    "### `cv.minMaxLoc` Fonksiyonunun Kullanımı\n",
    "\n",
    "```python\n",
    "minVal, maxVal, minLoc, maxLoc = cv.minMaxLoc(src)\n",
    "```\n",
    "\n",
    "### Parametreler:\n",
    "- **`src`**: Girdi dizisi veya görüntü. Tek kanallı (grayscale) bir görüntü olmalıdır.\n",
    "\n",
    "### Döndürülen Değerler:\n",
    "- **`minVal`**: Girdi verisindeki minimum değer.\n",
    "- **`maxVal`**: Girdi verisindeki maksimum değer.\n",
    "- **`minLoc`**: Minimum değerin bulunduğu koordinatlar (x, y).\n",
    "- **`maxLoc`**: Maksimum değerin bulunduğu koordinatlar (x, y).\n",
    "\n",
    "### `cv.minMaxLoc` Fonksiyonunun İşlevi:\n",
    "1. **Minimum ve Maksimum Değerlerin Bulunması**:\n",
    "   - Girdi verisindeki en küçük ve en büyük değerler bulunur.\n",
    "\n",
    "2. **Koordinatların Belirlenmesi**:\n",
    "   - Bu minimum ve maksimum değerlere karşılık gelen (x, y) koordinatları bulunur.\n",
    "\n",
    "### Örnek Kullanım:\n",
    "Aşağıda, `cv.minMaxLoc` fonksiyonunun bir ısı haritasında (heatmap) kullanılması örneklenmiştir:\n",
    "\n",
    "```python\n",
    "heatMap = out[0, i, :, :]  # i. vücut parçasının ısı haritası\n",
    "\n",
    "# Isı haritasındaki en yüksek (maksimum) değeri ve konumunu bul\n",
    "_, conf, _, point = cv.minMaxLoc(heatMap)\n",
    "x = (frameWidth * point[0]) / out.shape[3]\n",
    "y = (frameHeight * point[1]) / out.shape[2]\n",
    "```\n",
    "\n",
    "### Bu Kod Parçasının Açıklaması:\n",
    "- **`heatMap`**: `out` değişkeninden belirli bir vücut parçasına ait ısı haritasını alır.\n",
    "- **`cv.minMaxLoc(heatMap)`**: Bu ısı haritasındaki maksimum değeri (`conf`) ve bu değerin konumunu (`point`) bulur.\n",
    "- **`x` ve `y` Koordinatları**: Maksimum değerin bulunduğu noktanın görüntüdeki gerçek koordinatları hesaplanır.\n",
    "\n",
    "Bu fonksiyon, genellikle derin öğrenme ve görüntü işleme uygulamalarında, belirli bir özelliğin veya nesnenin en olası konumunu tespit etmek için kullanılır. Örneğin, vücut poz tahmininde, ısı haritasındaki en yüksek değer, belirli bir vücut parçasının en olası konumunu temsil eder. `cv.minMaxLoc` kullanılarak bu nokta bulunur ve daha sonra bu noktalar kullanılarak vücut parçaları arasındaki bağlantılar çizilir."
   ]
  },
  {
   "cell_type": "code",
   "execution_count": 11,
   "id": "cd2acb9b-52ec-4318-adfb-e1962c9f84c0",
   "metadata": {},
   "outputs": [
    {
     "name": "stdout",
     "output_type": "stream",
     "text": [
      "(50, 9)\n",
      "(51, 21)\n",
      "(40, 20)\n",
      "(32, 31)\n",
      "(31, 42)\n",
      "(61, 21)\n",
      "(69, 32)\n",
      "(68, 43)\n",
      "(44, 52)\n",
      "(45, 69)\n",
      "(57, 93)\n",
      "(58, 51)\n",
      "(57, 71)\n",
      "(57, 92)\n",
      "(49, 7)\n",
      "(52, 7)\n",
      "(46, 9)\n",
      "(55, 9)\n",
      "(98, 1)\n"
     ]
    }
   ],
   "source": [
    "\n",
    "\n",
    "for i in range(len(BODY_PARTS)):\n",
    "    heatmap = detect[0,i,:,:]\n",
    "    _, conf, _ , maxloc = cv2.minMaxLoc(heatmap)\n",
    "    print(maxloc)\n",
    "    #break"
   ]
  },
  {
   "cell_type": "code",
   "execution_count": 12,
   "id": "08718d88-a3cc-43b3-a755-bd9e04e8e030",
   "metadata": {},
   "outputs": [],
   "source": [
    "points = []\n",
    "for i in range(len(BODY_PARTS)):\n",
    "    heatmap = detect[0,i,:,:]\n",
    "    _, conf, _ , maxloc = cv2.minMaxLoc(heatmap)\n",
    "    #kordinatlar normalize edilen degerleri eski haline donderir boylece asil goruntu uzerindeki kordinatlar elde edilir.\n",
    "    x = (img_arr.shape[0] * maxloc[0]) / detect.shape[3]\n",
    "    y = (img_arr.shape[1] * maxloc[1]) / detect.shape[2]\n",
    "    if conf > 0.25:\n",
    "        points.append((int(x),int(y)))\n",
    "    else:\n",
    "        points.append(None)"
   ]
  },
  {
   "cell_type": "code",
   "execution_count": 13,
   "id": "4aa6a727-686e-489a-9266-82e924f2e219",
   "metadata": {},
   "outputs": [
    {
     "data": {
      "text/plain": [
       "[(400, 72),\n",
       " (408, 168),\n",
       " (320, 160),\n",
       " (256, 248),\n",
       " (248, 336),\n",
       " (488, 168),\n",
       " (552, 256),\n",
       " (544, 344),\n",
       " None,\n",
       " (360, 552),\n",
       " (456, 744),\n",
       " (464, 408),\n",
       " (456, 568),\n",
       " (456, 736),\n",
       " (392, 56),\n",
       " (416, 56),\n",
       " (368, 72),\n",
       " (440, 72),\n",
       " (784, 8)]"
      ]
     },
     "execution_count": 13,
     "metadata": {},
     "output_type": "execute_result"
    }
   ],
   "source": [
    "points"
   ]
  },
  {
   "cell_type": "code",
   "execution_count": 14,
   "id": "7b86ddea-9167-4e9f-bdde-a75cf6144f82",
   "metadata": {},
   "outputs": [
    {
     "data": {
      "text/plain": [
       "19"
      ]
     },
     "execution_count": 14,
     "metadata": {},
     "output_type": "execute_result"
    }
   ],
   "source": [
    "len(points)"
   ]
  },
  {
   "cell_type": "code",
   "execution_count": 15,
   "id": "d3712d40-8762-4302-8188-766cb931297f",
   "metadata": {},
   "outputs": [],
   "source": [
    "\n",
    "for pair in POSE_PAIRS:\n",
    "        partFrom = pair[0]\n",
    "        partTo = pair[1]\n",
    "        assert(partFrom in BODY_PARTS)\n",
    "        assert(partTo in BODY_PARTS)\n",
    "\n",
    "        idFrom = BODY_PARTS[partFrom]\n",
    "        idTo = BODY_PARTS[partTo]\n",
    "        \n",
    "        if points[idFrom] and points[idTo]:\n",
    "            cv2.line(img_arr, points[idFrom], points[idTo], (0, 255, 0), 3)\n",
    "            cv2.ellipse(img_arr, points[idFrom], (3, 3), 0, 0, 360, (0, 0, 255), cv2.FILLED)\n",
    "            cv2.ellipse(img_arr, points[idTo], (3, 3), 0, 0, 360, (0, 0, 255), cv2.FILLED)\n"
   ]
  },
  {
   "cell_type": "code",
   "execution_count": 16,
   "id": "8055bc9b-e4f1-4d39-8d57-2095add3aa48",
   "metadata": {},
   "outputs": [
    {
     "data": {
      "image/png": "[encoded data removed]",
      "text/plain": [
       "<Figure size 640x480 with 1 Axes>"
      ]
     },
     "metadata": {},
     "output_type": "display_data"
    }
   ],
   "source": [
    "import matplotlib.pyplot as plt\n",
    "\n",
    "image_rgb = cv2.cvtColor(img_arr, cv2.COLOR_BGR2RGB)\n",
    "\n",
    "plt.imshow(image_rgb)\n",
    "plt.show()"
   ]
  }
 ],
 "metadata": {
  "kernelspec": {
   "display_name": "Python 3 (ipykernel)",
   "language": "python",
   "name": "python3"
  },
  "language_info": {
   "codemirror_mode": {
    "name": "ipython",
    "version": 3
   },
   "file_extension": ".py",
   "mimetype": "text/x-python",
   "name": "python",
   "nbconvert_exporter": "python",
   "pygments_lexer": "ipython3",
   "version": "3.11.2"
  }
 },
 "nbformat": 4,
 "nbformat_minor": 5
}
