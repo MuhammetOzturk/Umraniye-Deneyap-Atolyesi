version https://git-lfs.github.com/spec/v1
oid sha256:24908e18b65845af2aabf347c50dcb097ca69bf6c51f047df239c4cfeaadf0be
size 35573
