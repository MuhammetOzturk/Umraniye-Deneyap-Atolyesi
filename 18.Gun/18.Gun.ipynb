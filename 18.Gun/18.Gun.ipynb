{
 "cells": [
  {
   "cell_type": "code",
   "execution_count": 1,
   "id": "43ef2e52-1d89-492c-8361-e241f0c38320",
   "metadata": {},
   "outputs": [],
   "source": [
    "!python -m zipfile -e kalp-atis.zip . "
   ]
  },
  {
   "cell_type": "code",
   "execution_count": 2,
   "id": "5de748fa-be61-488f-b3e0-4d74f1a52a29",
   "metadata": {
    "scrolled": true
   },
   "outputs": [
    {
     "name": "stdout",
     "output_type": "stream",
     "text": [
      "Requirement already satisfied: numpy==1.25.2 in /venv/lib/python3.11/site-packages (1.25.2)\n",
      "Requirement already satisfied: librosa in /venv/lib/python3.11/site-packages (0.10.2.post1)\n",
      "Requirement already satisfied: audioread>=2.1.9 in /venv/lib/python3.11/site-packages (from librosa) (3.0.1)\n",
      "Requirement already satisfied: scipy>=1.2.0 in /venv/lib/python3.11/site-packages (from librosa) (1.14.0)\n",
      "Requirement already satisfied: scikit-learn>=0.20.0 in /venv/lib/python3.11/site-packages (from librosa) (1.5.1)\n",
      "Requirement already satisfied: joblib>=0.14 in /venv/lib/python3.11/site-packages (from librosa) (1.4.2)\n",
      "Requirement already satisfied: decorator>=4.3.0 in /venv/lib/python3.11/site-packages (from librosa) (5.1.1)\n",
      "Requirement already satisfied: numba>=0.51.0 in /venv/lib/python3.11/site-packages (from librosa) (0.60.0)\n",
      "Requirement already satisfied: soundfile>=0.12.1 in /venv/lib/python3.11/site-packages (from librosa) (0.12.1)\n",
      "Requirement already satisfied: pooch>=1.1 in /venv/lib/python3.11/site-packages (from librosa) (1.8.2)\n",
      "Requirement already satisfied: soxr>=0.3.2 in /venv/lib/python3.11/site-packages (from librosa) (0.3.7)\n",
      "Requirement already satisfied: typing-extensions>=4.1.1 in /venv/lib/python3.11/site-packages (from librosa) (4.12.2)\n",
      "Requirement already satisfied: lazy-loader>=0.1 in /venv/lib/python3.11/site-packages (from librosa) (0.4)\n",
      "Requirement already satisfied: msgpack>=1.0 in /venv/lib/python3.11/site-packages (from librosa) (1.0.8)\n",
      "Requirement already satisfied: packaging in /venv/lib/python3.11/site-packages (from lazy-loader>=0.1->librosa) (24.1)\n",
      "Requirement already satisfied: llvmlite<0.44,>=0.43.0dev0 in /venv/lib/python3.11/site-packages (from numba>=0.51.0->librosa) (0.43.0)\n",
      "Requirement already satisfied: platformdirs>=2.5.0 in /venv/lib/python3.11/site-packages (from pooch>=1.1->librosa) (4.2.2)\n",
      "Requirement already satisfied: requests>=2.19.0 in /venv/lib/python3.11/site-packages (from pooch>=1.1->librosa) (2.32.3)\n",
      "Requirement already satisfied: threadpoolctl>=3.1.0 in /venv/lib/python3.11/site-packages (from scikit-learn>=0.20.0->librosa) (3.5.0)\n",
      "Requirement already satisfied: cffi>=1.0 in /venv/lib/python3.11/site-packages (from soundfile>=0.12.1->librosa) (1.16.0)\n",
      "Requirement already satisfied: pycparser in /venv/lib/python3.11/site-packages (from cffi>=1.0->soundfile>=0.12.1->librosa) (2.22)\n",
      "Requirement already satisfied: charset-normalizer<4,>=2 in /venv/lib/python3.11/site-packages (from requests>=2.19.0->pooch>=1.1->librosa) (3.3.2)\n",
      "Requirement already satisfied: idna<4,>=2.5 in /venv/lib/python3.11/site-packages (from requests>=2.19.0->pooch>=1.1->librosa) (3.7)\n",
      "Requirement already satisfied: urllib3<3,>=1.21.1 in /venv/lib/python3.11/site-packages (from requests>=2.19.0->pooch>=1.1->librosa) (2.2.2)\n",
      "Requirement already satisfied: certifi>=2017.4.17 in /venv/lib/python3.11/site-packages (from requests>=2.19.0->pooch>=1.1->librosa) (2024.7.4)\n"
     ]
    }
   ],
   "source": [
    "!pip install numpy==1.25.2 librosa \n"
   ]
  },
  {
   "cell_type": "code",
   "execution_count": 3,
   "id": "581d8f89-f2b8-4301-ba1a-b1d01b083f64",
   "metadata": {},
   "outputs": [
    {
     "name": "stdout",
     "output_type": "stream",
     "text": [
      "artifact  extrahls  extrastole\tmurmur\tnormal\tunlabel\n"
     ]
    }
   ],
   "source": [
    "!ls Heartbeat_Sound/"
   ]
  },
  {
   "cell_type": "markdown",
   "id": "5349c179-14ec-4024-8295-603b755e5c4b",
   "metadata": {},
   "source": [
    "\n",
    "\n",
    "1. **Artifact (Artefakt)**: Tıbbi görüntüleme veya ses kaydı gibi teknolojik süreçlerde, istenmeyen veya yanlış sonuçlara yol açabilen dış etkenler veya hatalar anlamına gelir. Örneğin, elektrokardiyogram (EKG) çekimlerinde hareket artefaktları veya elektrotların yerleştirilmesinden kaynaklanan gürültüler olabilir.\n",
    "\n",
    "2. **Extrahls (Ekstra Sistol)**: Kalp atışlarının normal döngüsünden farklı olarak meydana gelen erken bir kalp kasılmadır. Normal kalp atışı sırasında ani bir ekstra kasılma ile karakterizedir. Bu durum bazen kalp atışı hissi, göğüs ağrısı veya baş dönmesi gibi semptomlara yol açabilir.\n",
    "\n",
    "3. **Extrastole (Ekstra Sistol)**: Bu terim de \"Extrahls\" ile aynı anlama gelir. Kalbin normal atım döngüsünden önce gelen ek bir kasılma olarak tanımlanır.\n",
    "\n",
    "4. **Murmur (Üfleme)**: Kalp seslerinden biri olan ve genellikle anormal kan akışı nedeniyle oluşan bir ses. Üfleme, genellikle stetoskopla dinlendiğinde duyulabilir ve kalbin normal seslerinden farklı bir ses olarak tanımlanır.\n",
    "\n"
   ]
  },
  {
   "cell_type": "code",
   "execution_count": 4,
   "id": "a4f0f78d-2fe0-47bd-81d7-47fed67cadc1",
   "metadata": {},
   "outputs": [
    {
     "name": "stdout",
     "output_type": "stream",
     "text": [
      "dataset_files = ['Heartbeat_Sound/extrahls', 'Heartbeat_Sound/unlabel', 'Heartbeat_Sound/normal', 'Heartbeat_Sound/artifact', 'Heartbeat_Sound/murmur', 'Heartbeat_Sound/extrastole']\n",
      "Dosya Siliniyor.. Heartbeat_Sound/extrahls\n",
      "Dosya Siliniyor.. Heartbeat_Sound/artifact\n"
     ]
    }
   ],
   "source": [
    "#Veri setini temizle\n",
    "\n",
    "import os\n",
    "import shutil\n",
    "from glob import glob\n",
    "\n",
    "files = [\"extrastole\",\"murmur\",\"normal\",\"unlabel\"]\n",
    "\n",
    "dataset_files = glob(\"Heartbeat_Sound/*\")\n",
    "\n",
    "print(f\"dataset_files = {dataset_files}\")\n",
    "\n",
    "for file in dataset_files:\n",
    "    filename = file.split(os.sep)[-1]\n",
    "    \n",
    "    if not filename in files:\n",
    "        print(f\"Dosya Siliniyor.. {file}\")\n",
    "        shutil.rmtree(file,ignore_errors=True)\n",
    "\n"
   ]
  },
  {
   "cell_type": "code",
   "execution_count": 5,
   "id": "12c68984-3ea9-4a51-9d7d-2ce253b41b7c",
   "metadata": {},
   "outputs": [
    {
     "name": "stdout",
     "output_type": "stream",
     "text": [
      "Heartbeat_Sound/unlabel : 247\n",
      "Heartbeat_Sound/normal : 351\n",
      "Heartbeat_Sound/murmur : 129\n",
      "Heartbeat_Sound/extrastole : 46\n"
     ]
    }
   ],
   "source": [
    "dataset_files = glob(\"Heartbeat_Sound/*\")\n",
    "for file in dataset_files:\n",
    "    print(f\"{file} : {len(os.listdir(file))}\")"
   ]
  },
  {
   "cell_type": "code",
   "execution_count": 6,
   "id": "568440d3-7395-4b69-b368-e65999357154",
   "metadata": {},
   "outputs": [],
   "source": [
    "import numpy as np\n",
    "import librosa \n",
    "\n",
    "\n",
    "def load_files(files,duration = 10, sr = 22050):\n",
    "    mfccs = 0\n",
    "    input_length = sr*duration\n",
    "    data = []\n",
    "    for sound_file in files:\n",
    "        \n",
    "        X, sr = librosa.load(sound_file,sr = sr, duration = duration)\n",
    "        dur = librosa.get_duration(y = X, sr = sr)\n",
    "        \n",
    "        if round(dur) < duration:\n",
    "            #print(f\"Fixed {sound_file}\")\n",
    "            y = librosa.util.fix_length(X,size = input_length)\n",
    "            \n",
    "        mfccs = np.mean(librosa.feature.mfcc(y = X, sr = sr, n_mfcc = 25).T,axis = 0)\n",
    "        \n",
    "        feature = np.array(mfccs).reshape([-1,1])\n",
    "        data.append(feature)\n",
    "\n",
    "    return data\n"
   ]
  },
  {
   "cell_type": "code",
   "execution_count": 7,
   "id": "e5e95870-9b73-4434-bed4-00fcc3b30936",
   "metadata": {},
   "outputs": [
    {
     "data": {
      "text/plain": [
       "['Heartbeat_Sound/unlabel',\n",
       " 'Heartbeat_Sound/normal',\n",
       " 'Heartbeat_Sound/murmur',\n",
       " 'Heartbeat_Sound/extrastole']"
      ]
     },
     "execution_count": 7,
     "metadata": {},
     "output_type": "execute_result"
    }
   ],
   "source": [
    "dataset_files"
   ]
  },
  {
   "cell_type": "code",
   "execution_count": 8,
   "id": "067d5d66-9156-4fa2-9266-580b8879193e",
   "metadata": {},
   "outputs": [],
   "source": [
    "extrastole_files = glob(os.sep.join([dataset_files[0],'*.wav']))\n",
    "extrastole_sounds = load_files(extrastole_files)\n",
    "extrastole_labels = [2] * len(extrastole_sounds)"
   ]
  },
  {
   "cell_type": "code",
   "execution_count": 9,
   "id": "f7ea2d50-faa7-49c1-aab2-246fef2aabac",
   "metadata": {
    "scrolled": true
   },
   "outputs": [],
   "source": [
    "unlabel_files = glob(os.sep.join([dataset_files[1],'*.wav']))\n",
    "unlabel_sounds = load_files(unlabel_files)\n",
    "unlabel_labels = [-1] * len(unlabel_sounds)"
   ]
  },
  {
   "cell_type": "code",
   "execution_count": 10,
   "id": "7ab27322-1c3e-4d27-adde-da92919e4577",
   "metadata": {
    "scrolled": true
   },
   "outputs": [],
   "source": [
    "normal_files = glob(os.sep.join([dataset_files[2],'*.wav']))\n",
    "normal_sounds = load_files(normal_files)\n",
    "normal_labels = [2] * len(normal_sounds)"
   ]
  },
  {
   "cell_type": "code",
   "execution_count": 11,
   "id": "d4214d9a-a4ea-4113-8ef4-c929f7ccba93",
   "metadata": {
    "scrolled": true
   },
   "outputs": [],
   "source": [
    "murmur_files = glob(os.sep.join([dataset_files[3],'*.wav']))\n",
    "murmur_sounds = load_files(murmur_files)\n",
    "murmur_labels = [1] * len(murmur_sounds)"
   ]
  },
  {
   "cell_type": "code",
   "execution_count": 12,
   "id": "583620dd-ae10-41c3-a5de-c2f4c3282a72",
   "metadata": {},
   "outputs": [],
   "source": [
    "x_data = np.concatenate((normal_sounds,murmur_sounds,extrastole_sounds))\n",
    "y_data = np.concatenate((normal_labels,murmur_labels,extrastole_labels))"
   ]
  },
  {
   "cell_type": "code",
   "execution_count": 14,
   "id": "757e64a2-feb2-45f9-8877-ed33dd178d4d",
   "metadata": {},
   "outputs": [],
   "source": [
    "x_test = unlabel_sounds\n",
    "y_test = unlabel_labels"
   ]
  },
  {
   "cell_type": "code",
   "execution_count": 18,
   "id": "9d274682-ffe9-4712-80a0-5f254089bd2c",
   "metadata": {},
   "outputs": [],
   "source": [
    "import tensorflow as tf\n",
    "from tensorflow.keras.models import Sequential\n",
    "from tensorflow.keras.layers import Dense, Dropout, LSTM, Bidirectional, Flatten\n",
    "from tensorflow.keras.optimizers import Adam\n",
    "from sklearn.model_selection import train_test_split\n",
    "x_train, x_test, y_train, y_test = train_test_split(x_data, y_data, train_size=0.8,\n",
    "random_state=42, shuffle=True)\n",
    "x_train, x_val, y_train, y_val = train_test_split(x_train, y_train, train_size=0.8,\n",
    "random_state=42, shuffle=True)\n",
    "y_train = np.array(tf.keras.utils.to_categorical(y_train, 3))\n",
    "y_test = np.array(tf.keras.utils.to_categorical(y_test, 3))\n",
    "y_val = np.array(tf.keras.utils.to_categorical(y_val, 3))\n",
    "test_y=np.array(tf.keras.utils.to_categorical(y_test, 3))"
   ]
  },
  {
   "cell_type": "code",
   "execution_count": 19,
   "id": "21b74861-bab8-409d-bcce-6ff5d6cc306f",
   "metadata": {},
   "outputs": [
    {
     "name": "stderr",
     "output_type": "stream",
     "text": [
      "WARNING: All log messages before absl::InitializeLog() is called are written to STDERR\n",
      "I0000 00:00:1721851712.663033    1146 cuda_executor.cc:1015] successful NUMA node read from SysFS had negative value (-1), but there must be at least one NUMA node, so returning NUMA node zero. See more at https://github.com/torvalds/linux/blob/v6.0/Documentation/ABI/testing/sysfs-bus-pci#L344-L355\n",
      "2024-07-24 20:08:32.806442: W tensorflow/core/common_runtime/gpu/gpu_device.cc:2343] Cannot dlopen some GPU libraries. Please make sure the missing libraries mentioned above are installed properly if you would like to use GPU. Follow the guide at https://www.tensorflow.org/install/gpu for how to download and setup the required libraries for your platform.\n",
      "Skipping registering GPU devices...\n",
      "/venv/lib/python3.11/site-packages/keras/src/layers/rnn/bidirectional.py:107: UserWarning: Do not pass an `input_shape`/`input_dim` argument to a layer. When using Sequential models, prefer using an `Input(shape)` object as the first layer in the model instead.\n",
      "  super().__init__(**kwargs)\n"
     ]
    },
    {
     "data": {
      "text/html": [
       "<pre style=\"white-space:pre;overflow-x:auto;line-height:normal;font-family:Menlo,'DejaVu Sans Mono',consolas,'Courier New',monospace\"><span style=\"font-weight: bold\">Model: \"sequential\"</span>\n",
       "</pre>\n"
      ],
      "text/plain": [
       "\u001b[1mModel: \"sequential\"\u001b[0m\n"
      ]
     },
     "metadata": {},
     "output_type": "display_data"
    },
    {
     "data": {
      "text/html": [
       "<pre style=\"white-space:pre;overflow-x:auto;line-height:normal;font-family:Menlo,'DejaVu Sans Mono',consolas,'Courier New',monospace\">┏━━━━━━━━━━━━━━━━━━━━━━━━━━━━━━━━━┳━━━━━━━━━━━━━━━━━━━━━━━━┳━━━━━━━━━━━━━━━┓\n",
       "┃<span style=\"font-weight: bold\"> Layer (type)                    </span>┃<span style=\"font-weight: bold\"> Output Shape           </span>┃<span style=\"font-weight: bold\">       Param # </span>┃\n",
       "┡━━━━━━━━━━━━━━━━━━━━━━━━━━━━━━━━━╇━━━━━━━━━━━━━━━━━━━━━━━━╇━━━━━━━━━━━━━━━┩\n",
       "│ bidirectional (<span style=\"color: #0087ff; text-decoration-color: #0087ff\">Bidirectional</span>)   │ (<span style=\"color: #00d7ff; text-decoration-color: #00d7ff\">None</span>, <span style=\"color: #00af00; text-decoration-color: #00af00\">25</span>, <span style=\"color: #00af00; text-decoration-color: #00af00\">256</span>)        │       <span style=\"color: #00af00; text-decoration-color: #00af00\">133,120</span> │\n",
       "├─────────────────────────────────┼────────────────────────┼───────────────┤\n",
       "│ dense (<span style=\"color: #0087ff; text-decoration-color: #0087ff\">Dense</span>)                   │ (<span style=\"color: #00d7ff; text-decoration-color: #00d7ff\">None</span>, <span style=\"color: #00af00; text-decoration-color: #00af00\">25</span>, <span style=\"color: #00af00; text-decoration-color: #00af00\">128</span>)        │        <span style=\"color: #00af00; text-decoration-color: #00af00\">32,896</span> │\n",
       "├─────────────────────────────────┼────────────────────────┼───────────────┤\n",
       "│ dropout (<span style=\"color: #0087ff; text-decoration-color: #0087ff\">Dropout</span>)               │ (<span style=\"color: #00d7ff; text-decoration-color: #00d7ff\">None</span>, <span style=\"color: #00af00; text-decoration-color: #00af00\">25</span>, <span style=\"color: #00af00; text-decoration-color: #00af00\">128</span>)        │             <span style=\"color: #00af00; text-decoration-color: #00af00\">0</span> │\n",
       "├─────────────────────────────────┼────────────────────────┼───────────────┤\n",
       "│ dense_1 (<span style=\"color: #0087ff; text-decoration-color: #0087ff\">Dense</span>)                 │ (<span style=\"color: #00d7ff; text-decoration-color: #00d7ff\">None</span>, <span style=\"color: #00af00; text-decoration-color: #00af00\">25</span>, <span style=\"color: #00af00; text-decoration-color: #00af00\">128</span>)        │        <span style=\"color: #00af00; text-decoration-color: #00af00\">16,512</span> │\n",
       "├─────────────────────────────────┼────────────────────────┼───────────────┤\n",
       "│ dense_2 (<span style=\"color: #0087ff; text-decoration-color: #0087ff\">Dense</span>)                 │ (<span style=\"color: #00d7ff; text-decoration-color: #00d7ff\">None</span>, <span style=\"color: #00af00; text-decoration-color: #00af00\">25</span>, <span style=\"color: #00af00; text-decoration-color: #00af00\">128</span>)        │        <span style=\"color: #00af00; text-decoration-color: #00af00\">16,512</span> │\n",
       "├─────────────────────────────────┼────────────────────────┼───────────────┤\n",
       "│ dense_3 (<span style=\"color: #0087ff; text-decoration-color: #0087ff\">Dense</span>)                 │ (<span style=\"color: #00d7ff; text-decoration-color: #00d7ff\">None</span>, <span style=\"color: #00af00; text-decoration-color: #00af00\">25</span>, <span style=\"color: #00af00; text-decoration-color: #00af00\">64</span>)         │         <span style=\"color: #00af00; text-decoration-color: #00af00\">8,256</span> │\n",
       "├─────────────────────────────────┼────────────────────────┼───────────────┤\n",
       "│ dense_4 (<span style=\"color: #0087ff; text-decoration-color: #0087ff\">Dense</span>)                 │ (<span style=\"color: #00d7ff; text-decoration-color: #00d7ff\">None</span>, <span style=\"color: #00af00; text-decoration-color: #00af00\">25</span>, <span style=\"color: #00af00; text-decoration-color: #00af00\">64</span>)         │         <span style=\"color: #00af00; text-decoration-color: #00af00\">4,160</span> │\n",
       "├─────────────────────────────────┼────────────────────────┼───────────────┤\n",
       "│ flatten (<span style=\"color: #0087ff; text-decoration-color: #0087ff\">Flatten</span>)               │ (<span style=\"color: #00d7ff; text-decoration-color: #00d7ff\">None</span>, <span style=\"color: #00af00; text-decoration-color: #00af00\">1600</span>)           │             <span style=\"color: #00af00; text-decoration-color: #00af00\">0</span> │\n",
       "├─────────────────────────────────┼────────────────────────┼───────────────┤\n",
       "│ dense_5 (<span style=\"color: #0087ff; text-decoration-color: #0087ff\">Dense</span>)                 │ (<span style=\"color: #00d7ff; text-decoration-color: #00d7ff\">None</span>, <span style=\"color: #00af00; text-decoration-color: #00af00\">3</span>)              │         <span style=\"color: #00af00; text-decoration-color: #00af00\">4,803</span> │\n",
       "└─────────────────────────────────┴────────────────────────┴───────────────┘\n",
       "</pre>\n"
      ],
      "text/plain": [
       "┏━━━━━━━━━━━━━━━━━━━━━━━━━━━━━━━━━┳━━━━━━━━━━━━━━━━━━━━━━━━┳━━━━━━━━━━━━━━━┓\n",
       "┃\u001b[1m \u001b[0m\u001b[1mLayer (type)                   \u001b[0m\u001b[1m \u001b[0m┃\u001b[1m \u001b[0m\u001b[1mOutput Shape          \u001b[0m\u001b[1m \u001b[0m┃\u001b[1m \u001b[0m\u001b[1m      Param #\u001b[0m\u001b[1m \u001b[0m┃\n",
       "┡━━━━━━━━━━━━━━━━━━━━━━━━━━━━━━━━━╇━━━━━━━━━━━━━━━━━━━━━━━━╇━━━━━━━━━━━━━━━┩\n",
       "│ bidirectional (\u001b[38;5;33mBidirectional\u001b[0m)   │ (\u001b[38;5;45mNone\u001b[0m, \u001b[38;5;34m25\u001b[0m, \u001b[38;5;34m256\u001b[0m)        │       \u001b[38;5;34m133,120\u001b[0m │\n",
       "├─────────────────────────────────┼────────────────────────┼───────────────┤\n",
       "│ dense (\u001b[38;5;33mDense\u001b[0m)                   │ (\u001b[38;5;45mNone\u001b[0m, \u001b[38;5;34m25\u001b[0m, \u001b[38;5;34m128\u001b[0m)        │        \u001b[38;5;34m32,896\u001b[0m │\n",
       "├─────────────────────────────────┼────────────────────────┼───────────────┤\n",
       "│ dropout (\u001b[38;5;33mDropout\u001b[0m)               │ (\u001b[38;5;45mNone\u001b[0m, \u001b[38;5;34m25\u001b[0m, \u001b[38;5;34m128\u001b[0m)        │             \u001b[38;5;34m0\u001b[0m │\n",
       "├─────────────────────────────────┼────────────────────────┼───────────────┤\n",
       "│ dense_1 (\u001b[38;5;33mDense\u001b[0m)                 │ (\u001b[38;5;45mNone\u001b[0m, \u001b[38;5;34m25\u001b[0m, \u001b[38;5;34m128\u001b[0m)        │        \u001b[38;5;34m16,512\u001b[0m │\n",
       "├─────────────────────────────────┼────────────────────────┼───────────────┤\n",
       "│ dense_2 (\u001b[38;5;33mDense\u001b[0m)                 │ (\u001b[38;5;45mNone\u001b[0m, \u001b[38;5;34m25\u001b[0m, \u001b[38;5;34m128\u001b[0m)        │        \u001b[38;5;34m16,512\u001b[0m │\n",
       "├─────────────────────────────────┼────────────────────────┼───────────────┤\n",
       "│ dense_3 (\u001b[38;5;33mDense\u001b[0m)                 │ (\u001b[38;5;45mNone\u001b[0m, \u001b[38;5;34m25\u001b[0m, \u001b[38;5;34m64\u001b[0m)         │         \u001b[38;5;34m8,256\u001b[0m │\n",
       "├─────────────────────────────────┼────────────────────────┼───────────────┤\n",
       "│ dense_4 (\u001b[38;5;33mDense\u001b[0m)                 │ (\u001b[38;5;45mNone\u001b[0m, \u001b[38;5;34m25\u001b[0m, \u001b[38;5;34m64\u001b[0m)         │         \u001b[38;5;34m4,160\u001b[0m │\n",
       "├─────────────────────────────────┼────────────────────────┼───────────────┤\n",
       "│ flatten (\u001b[38;5;33mFlatten\u001b[0m)               │ (\u001b[38;5;45mNone\u001b[0m, \u001b[38;5;34m1600\u001b[0m)           │             \u001b[38;5;34m0\u001b[0m │\n",
       "├─────────────────────────────────┼────────────────────────┼───────────────┤\n",
       "│ dense_5 (\u001b[38;5;33mDense\u001b[0m)                 │ (\u001b[38;5;45mNone\u001b[0m, \u001b[38;5;34m3\u001b[0m)              │         \u001b[38;5;34m4,803\u001b[0m │\n",
       "└─────────────────────────────────┴────────────────────────┴───────────────┘\n"
      ]
     },
     "metadata": {},
     "output_type": "display_data"
    },
    {
     "data": {
      "text/html": [
       "<pre style=\"white-space:pre;overflow-x:auto;line-height:normal;font-family:Menlo,'DejaVu Sans Mono',consolas,'Courier New',monospace\"><span style=\"font-weight: bold\"> Total params: </span><span style=\"color: #00af00; text-decoration-color: #00af00\">216,259</span> (844.76 KB)\n",
       "</pre>\n"
      ],
      "text/plain": [
       "\u001b[1m Total params: \u001b[0m\u001b[38;5;34m216,259\u001b[0m (844.76 KB)\n"
      ]
     },
     "metadata": {},
     "output_type": "display_data"
    },
    {
     "data": {
      "text/html": [
       "<pre style=\"white-space:pre;overflow-x:auto;line-height:normal;font-family:Menlo,'DejaVu Sans Mono',consolas,'Courier New',monospace\"><span style=\"font-weight: bold\"> Trainable params: </span><span style=\"color: #00af00; text-decoration-color: #00af00\">216,259</span> (844.76 KB)\n",
       "</pre>\n"
      ],
      "text/plain": [
       "\u001b[1m Trainable params: \u001b[0m\u001b[38;5;34m216,259\u001b[0m (844.76 KB)\n"
      ]
     },
     "metadata": {},
     "output_type": "display_data"
    },
    {
     "data": {
      "text/html": [
       "<pre style=\"white-space:pre;overflow-x:auto;line-height:normal;font-family:Menlo,'DejaVu Sans Mono',consolas,'Courier New',monospace\"><span style=\"font-weight: bold\"> Non-trainable params: </span><span style=\"color: #00af00; text-decoration-color: #00af00\">0</span> (0.00 B)\n",
       "</pre>\n"
      ],
      "text/plain": [
       "\u001b[1m Non-trainable params: \u001b[0m\u001b[38;5;34m0\u001b[0m (0.00 B)\n"
      ]
     },
     "metadata": {},
     "output_type": "display_data"
    }
   ],
   "source": [
    "model = Sequential()\n",
    "model.add(Bidirectional(LSTM(128, dropout=0.05, recurrent_dropout=0.20, return_sequences=True), input_shape = (25,1)))\n",
    "model.add(Dense(128,activation='relu'))\n",
    "model.add(Dropout(0.3))\n",
    "model.add(Dense(128,activation='relu'))\n",
    "model.add(Dense(128,activation='relu'))\n",
    "model.add(Dense(64,activation='relu'))\n",
    "model.add(Dense(64,activation='relu'))\n",
    "model.add(Flatten())\n",
    "model.add(Dense(3, activation='softmax'))\n",
    "model.compile(loss='categorical_crossentropy', optimizer=Adam(1e-4), metrics=['acc'])\n",
    "model.summary()"
   ]
  },
  {
   "cell_type": "code",
   "execution_count": 21,
   "id": "eb19ba5f-42a4-4bff-8dd5-3f6ebdea567d",
   "metadata": {},
   "outputs": [
    {
     "name": "stdout",
     "output_type": "stream",
     "text": [
      "Epoch 1/20\n",
      "\u001b[1m90/90\u001b[0m \u001b[32m━━━━━━━━━━━━━━━━━━━━\u001b[0m\u001b[37m\u001b[0m \u001b[1m1s\u001b[0m 16ms/step - acc: 0.8617 - loss: 0.3624 - val_acc: 0.8971 - val_loss: 0.2831\n",
      "Epoch 2/20\n",
      "\u001b[1m90/90\u001b[0m \u001b[32m━━━━━━━━━━━━━━━━━━━━\u001b[0m\u001b[37m\u001b[0m \u001b[1m1s\u001b[0m 16ms/step - acc: 0.8777 - loss: 0.3312 - val_acc: 0.8971 - val_loss: 0.2875\n",
      "Epoch 3/20\n",
      "\u001b[1m90/90\u001b[0m \u001b[32m━━━━━━━━━━━━━━━━━━━━\u001b[0m\u001b[37m\u001b[0m \u001b[1m1s\u001b[0m 16ms/step - acc: 0.8876 - loss: 0.3401 - val_acc: 0.8971 - val_loss: 0.2875\n",
      "Epoch 4/20\n",
      "\u001b[1m90/90\u001b[0m \u001b[32m━━━━━━━━━━━━━━━━━━━━\u001b[0m\u001b[37m\u001b[0m \u001b[1m1s\u001b[0m 15ms/step - acc: 0.8951 - loss: 0.2888 - val_acc: 0.8971 - val_loss: 0.3023\n",
      "Epoch 5/20\n",
      "\u001b[1m90/90\u001b[0m \u001b[32m━━━━━━━━━━━━━━━━━━━━\u001b[0m\u001b[37m\u001b[0m \u001b[1m1s\u001b[0m 15ms/step - acc: 0.8621 - loss: 0.3554 - val_acc: 0.8971 - val_loss: 0.2867\n",
      "Epoch 6/20\n",
      "\u001b[1m90/90\u001b[0m \u001b[32m━━━━━━━━━━━━━━━━━━━━\u001b[0m\u001b[37m\u001b[0m \u001b[1m1s\u001b[0m 15ms/step - acc: 0.8621 - loss: 0.3328 - val_acc: 0.8971 - val_loss: 0.2811\n",
      "Epoch 7/20\n",
      "\u001b[1m90/90\u001b[0m \u001b[32m━━━━━━━━━━━━━━━━━━━━\u001b[0m\u001b[37m\u001b[0m \u001b[1m1s\u001b[0m 16ms/step - acc: 0.8802 - loss: 0.3265 - val_acc: 0.8971 - val_loss: 0.2856\n",
      "Epoch 8/20\n",
      "\u001b[1m90/90\u001b[0m \u001b[32m━━━━━━━━━━━━━━━━━━━━\u001b[0m\u001b[37m\u001b[0m \u001b[1m1s\u001b[0m 15ms/step - acc: 0.8630 - loss: 0.3283 - val_acc: 0.8971 - val_loss: 0.2816\n",
      "Epoch 9/20\n",
      "\u001b[1m90/90\u001b[0m \u001b[32m━━━━━━━━━━━━━━━━━━━━\u001b[0m\u001b[37m\u001b[0m \u001b[1m1s\u001b[0m 15ms/step - acc: 0.8779 - loss: 0.3153 - val_acc: 0.8971 - val_loss: 0.2923\n",
      "Epoch 10/20\n",
      "\u001b[1m90/90\u001b[0m \u001b[32m━━━━━━━━━━━━━━━━━━━━\u001b[0m\u001b[37m\u001b[0m \u001b[1m1s\u001b[0m 16ms/step - acc: 0.8798 - loss: 0.2978 - val_acc: 0.8971 - val_loss: 0.2754\n",
      "Epoch 11/20\n",
      "\u001b[1m90/90\u001b[0m \u001b[32m━━━━━━━━━━━━━━━━━━━━\u001b[0m\u001b[37m\u001b[0m \u001b[1m1s\u001b[0m 16ms/step - acc: 0.8521 - loss: 0.3558 - val_acc: 0.8971 - val_loss: 0.2749\n",
      "Epoch 12/20\n",
      "\u001b[1m90/90\u001b[0m \u001b[32m━━━━━━━━━━━━━━━━━━━━\u001b[0m\u001b[37m\u001b[0m \u001b[1m1s\u001b[0m 16ms/step - acc: 0.8886 - loss: 0.2688 - val_acc: 0.8971 - val_loss: 0.2632\n",
      "Epoch 13/20\n",
      "\u001b[1m90/90\u001b[0m \u001b[32m━━━━━━━━━━━━━━━━━━━━\u001b[0m\u001b[37m\u001b[0m \u001b[1m1s\u001b[0m 16ms/step - acc: 0.8925 - loss: 0.2931 - val_acc: 0.8971 - val_loss: 0.2695\n",
      "Epoch 14/20\n",
      "\u001b[1m90/90\u001b[0m \u001b[32m━━━━━━━━━━━━━━━━━━━━\u001b[0m\u001b[37m\u001b[0m \u001b[1m1s\u001b[0m 16ms/step - acc: 0.8918 - loss: 0.3027 - val_acc: 0.8971 - val_loss: 0.2817\n",
      "Epoch 15/20\n",
      "\u001b[1m90/90\u001b[0m \u001b[32m━━━━━━━━━━━━━━━━━━━━\u001b[0m\u001b[37m\u001b[0m \u001b[1m2s\u001b[0m 18ms/step - acc: 0.8433 - loss: 0.3951 - val_acc: 0.8971 - val_loss: 0.2725\n",
      "Epoch 16/20\n",
      "\u001b[1m90/90\u001b[0m \u001b[32m━━━━━━━━━━━━━━━━━━━━\u001b[0m\u001b[37m\u001b[0m \u001b[1m2s\u001b[0m 19ms/step - acc: 0.8977 - loss: 0.2768 - val_acc: 0.8971 - val_loss: 0.2898\n",
      "Epoch 17/20\n",
      "\u001b[1m90/90\u001b[0m \u001b[32m━━━━━━━━━━━━━━━━━━━━\u001b[0m\u001b[37m\u001b[0m \u001b[1m2s\u001b[0m 18ms/step - acc: 0.8858 - loss: 0.3075 - val_acc: 0.8971 - val_loss: 0.2759\n",
      "Epoch 18/20\n",
      "\u001b[1m90/90\u001b[0m \u001b[32m━━━━━━━━━━━━━━━━━━━━\u001b[0m\u001b[37m\u001b[0m \u001b[1m1s\u001b[0m 16ms/step - acc: 0.9132 - loss: 0.2660 - val_acc: 0.8824 - val_loss: 0.3110\n",
      "Epoch 19/20\n",
      "\u001b[1m90/90\u001b[0m \u001b[32m━━━━━━━━━━━━━━━━━━━━\u001b[0m\u001b[37m\u001b[0m \u001b[1m1s\u001b[0m 16ms/step - acc: 0.8925 - loss: 0.3064 - val_acc: 0.8971 - val_loss: 0.2717\n",
      "Epoch 20/20\n",
      "\u001b[1m90/90\u001b[0m \u001b[32m━━━━━━━━━━━━━━━━━━━━\u001b[0m\u001b[37m\u001b[0m \u001b[1m2s\u001b[0m 19ms/step - acc: 0.8842 - loss: 0.2867 - val_acc: 0.8971 - val_loss: 0.2685\n",
      "\u001b[1m17/17\u001b[0m \u001b[32m━━━━━━━━━━━━━━━━━━━━\u001b[0m\u001b[37m\u001b[0m \u001b[1m0s\u001b[0m 4ms/step\n",
      "\u001b[1m3/3\u001b[0m \u001b[32m━━━━━━━━━━━━━━━━━━━━\u001b[0m\u001b[37m\u001b[0m \u001b[1m0s\u001b[0m 11ms/step - acc: 0.9159 - loss: 0.2716\n",
      "Model Dogruluk (Accuracy):  92 %\n",
      "\u001b[1m1/1\u001b[0m \u001b[32m━━━━━━━━━━━━━━━━━━━━\u001b[0m\u001b[37m\u001b[0m \u001b[1m0s\u001b[0m 354ms/step\n",
      "Ses dosyasi Heartbeat_Sound/normal/normal__103_1305031931979_D1.wav icin tahmin edilen class / sinif: normal\n"
     ]
    }
   ],
   "source": [
    "history=model.fit(\n",
    "    x_train, \n",
    "    y_train,\n",
    "    batch_size=3,\n",
    "    epochs=20,\n",
    "    validation_data=(x_val, y_val)\n",
    ")\n",
    "\n",
    "y_pred = model.predict(x_test, batch_size=5)\n",
    "scores = model.evaluate(x_test, y_test)\n",
    "\n",
    "print (\"Model Dogruluk (Accuracy): \", round(scores[1]*100),\"%\")\n",
    "\n",
    "def preprocess_audio(file_path, duration=10, sr=22050):\n",
    "    input_length = sr * duration\n",
    "    process_file = []\n",
    "    X, sr = librosa.load(file_path, sr=sr, duration=duration)\n",
    "    dur = librosa.get_duration(y=X, sr=sr)\n",
    "    if round(dur) < duration:\n",
    "        y = librosa.util.fix_length(X, input_length)\n",
    "    mfccs = np.mean(librosa.feature.mfcc(y=X, sr=sr, n_mfcc=25).T, axis=0)\n",
    "    feature = np.array(mfccs).reshape([-1, 1])\n",
    "    process_file.append(feature)\n",
    "    process_file_array = np.asarray(process_file)\n",
    "    return process_file_array\n",
    "\n",
    "audio_file_path = 'Heartbeat_Sound/normal/normal__103_1305031931979_D1.wav'\n",
    "processed_audio = preprocess_audio(audio_file_path)\n",
    "prediction = model.predict(processed_audio)\n",
    "predicted_class = np.argmax(prediction)\n",
    "class_mapping = {0: 'abnormal', 1: 'abnormal', 2: 'normal'}\n",
    "predicted_label = class_mapping[predicted_class]\n",
    "# Print the result\n",
    "print('Ses dosyasi '+audio_file_path+' icin tahmin edilen class / sinif: '+predicted_label)"
   ]
  }
 ],
 "metadata": {
  "kernelspec": {
   "display_name": "Python 3 (ipykernel)",
   "language": "python",
   "name": "python3"
  },
  "language_info": {
   "codemirror_mode": {
    "name": "ipython",
    "version": 3
   },
   "file_extension": ".py",
   "mimetype": "text/x-python",
   "name": "python",
   "nbconvert_exporter": "python",
   "pygments_lexer": "ipython3",
   "version": "3.11.2"
  }
 },
 "nbformat": 4,
 "nbformat_minor": 5
}
